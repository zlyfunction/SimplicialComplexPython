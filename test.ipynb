{
 "cells": [
  {
   "cell_type": "code",
   "execution_count": 1,
   "id": "ca73d2f9",
   "metadata": {},
   "outputs": [],
   "source": [
    "from SimplicialComplex import *"
   ]
  },
  {
   "cell_type": "code",
   "execution_count": 9,
   "id": "8be7c074",
   "metadata": {},
   "outputs": [],
   "source": [
    "# Load mesh\n",
    "# mesh = load_obj('tet_triangle_mesh.obj')\n",
    "mesh = load_obj('single_tet.obj')"
   ]
  },
  {
   "cell_type": "code",
   "execution_count": 10,
   "id": "ff7d180c",
   "metadata": {},
   "outputs": [
    {
     "name": "stdout",
     "output_type": "stream",
     "text": [
      "Open star of vertex 1:\n",
      "#vertices:  1\n",
      "#edges:  3\n",
      "#triangles:  3\n",
      "#tets:  1\n",
      "(1,)\n",
      "(1, 2)\n",
      "(1, 4)\n",
      "(1, 3)\n",
      "(1, 2, 3)\n",
      "(1, 2, 4)\n",
      "(1, 3, 4)\n",
      "(1, 2, 3, 4)\n",
      "\n",
      "Closed star of vertex 1:\n",
      "#vertices:  4\n",
      "#edges:  6\n",
      "#triangles:  4\n",
      "#tets:  1\n",
      "(1,)\n",
      "(2,)\n",
      "(3,)\n",
      "(4,)\n",
      "(1, 3)\n",
      "(1, 2)\n",
      "(1, 4)\n",
      "(2, 4)\n",
      "(2, 3)\n",
      "(3, 4)\n",
      "(1, 2, 3)\n",
      "(1, 3, 4)\n",
      "(1, 2, 4)\n",
      "(2, 3, 4)\n",
      "(1, 2, 3, 4)\n",
      "\n",
      "Link of vertex 1:\n",
      "#vertices:  3\n",
      "#edges:  3\n",
      "#triangles:  1\n",
      "#tets:  0\n",
      "(2,)\n",
      "(3,)\n",
      "(4,)\n",
      "(2, 4)\n",
      "(2, 3)\n",
      "(3, 4)\n",
      "(2, 3, 4)\n"
     ]
    }
   ],
   "source": [
    "# Compute open_star, closed_star, and link for vertex 1\n",
    "print(\"Open star of vertex 1:\")\n",
    "print_sc(mesh.open_star((1,)))\n",
    "print(\"\\nClosed star of vertex 1:\")\n",
    "print_sc(mesh.closed_star((1,)))\n",
    "print(\"\\nLink of vertex 1:\")\n",
    "print_sc(mesh.link((1,)))"
   ]
  },
  {
   "cell_type": "code",
   "execution_count": 11,
   "id": "771e830d",
   "metadata": {},
   "outputs": [
    {
     "name": "stdout",
     "output_type": "stream",
     "text": [
      "Open star of edge (1,2):\n",
      "#vertices:  0\n",
      "#edges:  1\n",
      "#triangles:  2\n",
      "#tets:  1\n",
      "(1, 2)\n",
      "(1, 2, 3)\n",
      "(1, 2, 4)\n",
      "(1, 2, 3, 4)\n",
      "\n",
      "Closed star of edge (1,2):\n",
      "#vertices:  4\n",
      "#edges:  6\n",
      "#triangles:  4\n",
      "#tets:  1\n",
      "(1,)\n",
      "(2,)\n",
      "(3,)\n",
      "(4,)\n",
      "(1, 3)\n",
      "(1, 2)\n",
      "(1, 4)\n",
      "(2, 4)\n",
      "(2, 3)\n",
      "(3, 4)\n",
      "(1, 2, 3)\n",
      "(1, 3, 4)\n",
      "(1, 2, 4)\n",
      "(2, 3, 4)\n",
      "(1, 2, 3, 4)\n",
      "\n",
      "Link of edge (1,2):\n",
      "#vertices:  2\n",
      "#edges:  1\n",
      "#triangles:  0\n",
      "#tets:  0\n",
      "(3,)\n",
      "(4,)\n",
      "(3, 4)\n"
     ]
    }
   ],
   "source": [
    "# Compute open_star, closed_star, and link for edge (1, 2)\n",
    "print(\"Open star of edge (1,2):\")\n",
    "print_sc(mesh.open_star((1,2)))\n",
    "print(\"\\nClosed star of edge (1,2):\")\n",
    "print_sc(mesh.closed_star((1,2)))\n",
    "print(\"\\nLink of edge (1,2):\")\n",
    "print_sc(mesh.link((1,2)))"
   ]
  },
  {
   "cell_type": "code",
   "execution_count": 12,
   "id": "5114e80e",
   "metadata": {},
   "outputs": [
    {
     "name": "stdout",
     "output_type": "stream",
     "text": [
      "\n",
      "Open star of face (1,2,3):\n",
      "#vertices:  0\n",
      "#edges:  0\n",
      "#triangles:  1\n",
      "#tets:  1\n",
      "(1, 2, 3)\n",
      "(1, 2, 3, 4)\n",
      "Closed star of face (1,2,3):\n",
      "#vertices:  4\n",
      "#edges:  6\n",
      "#triangles:  4\n",
      "#tets:  1\n",
      "(1,)\n",
      "(2,)\n",
      "(3,)\n",
      "(4,)\n",
      "(1, 3)\n",
      "(1, 2)\n",
      "(1, 4)\n",
      "(2, 4)\n",
      "(2, 3)\n",
      "(3, 4)\n",
      "(1, 2, 3)\n",
      "(1, 3, 4)\n",
      "(1, 2, 4)\n",
      "(2, 3, 4)\n",
      "(1, 2, 3, 4)\n",
      "Link of face (1,2,3):\n",
      "#vertices:  1\n",
      "#edges:  0\n",
      "#triangles:  0\n",
      "#tets:  0\n",
      "(4,)\n"
     ]
    }
   ],
   "source": [
    "# Compute open_star, closed_star, and link for face (1, 2, 3)\n",
    "print(\"\\nOpen star of face (1,2,3):\")\n",
    "print_sc(mesh.open_star((1,2,3)))\n",
    "print(\"Closed star of face (1,2,3):\")\n",
    "print_sc(mesh.closed_star((1,2,3)))\n",
    "print(\"Link of face (1,2,3):\")\n",
    "print_sc(mesh.link((1,2,3)))"
   ]
  },
  {
   "cell_type": "code",
   "execution_count": 13,
   "id": "c3300fc1",
   "metadata": {},
   "outputs": [
    {
     "name": "stdout",
     "output_type": "stream",
     "text": [
      "\n",
      "Open star of face (1,2,3,4):\n",
      "#vertices:  0\n",
      "#edges:  0\n",
      "#triangles:  0\n",
      "#tets:  1\n",
      "(1, 2, 3, 4)\n",
      "Closed star of face (1,2,3,4):\n",
      "#vertices:  4\n",
      "#edges:  6\n",
      "#triangles:  4\n",
      "#tets:  1\n",
      "(1,)\n",
      "(2,)\n",
      "(3,)\n",
      "(4,)\n",
      "(1, 3)\n",
      "(1, 2)\n",
      "(1, 4)\n",
      "(2, 4)\n",
      "(2, 3)\n",
      "(3, 4)\n",
      "(1, 2, 3)\n",
      "(1, 3, 4)\n",
      "(1, 2, 4)\n",
      "(2, 3, 4)\n",
      "(1, 2, 3, 4)\n",
      "Link of face (1,2,3,4):\n",
      "#vertices:  0\n",
      "#edges:  0\n",
      "#triangles:  0\n",
      "#tets:  0\n"
     ]
    }
   ],
   "source": [
    "# Compute open_star, closed_star, and link for face (1, 2, 3, 4)\n",
    "print(\"\\nOpen star of face (1,2,3,4):\")\n",
    "print_sc(mesh.open_star((1,2,3,4)))\n",
    "print(\"Closed star of face (1,2,3,4):\")\n",
    "print_sc(mesh.closed_star((1,2,3,4)))\n",
    "print(\"Link of face (1,2,3,4):\")\n",
    "print_sc(mesh.link((1,2,3,4)))"
   ]
  }
 ],
 "metadata": {
  "kernelspec": {
   "display_name": "Python 3 (ipykernel)",
   "language": "python",
   "name": "python3"
  },
  "language_info": {
   "codemirror_mode": {
    "name": "ipython",
    "version": 3
   },
   "file_extension": ".py",
   "mimetype": "text/x-python",
   "name": "python",
   "nbconvert_exporter": "python",
   "pygments_lexer": "ipython3",
   "version": "3.11.4"
  }
 },
 "nbformat": 4,
 "nbformat_minor": 5
}
