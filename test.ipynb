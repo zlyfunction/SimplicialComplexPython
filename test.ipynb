{
 "cells": [
  {
   "cell_type": "code",
   "execution_count": 4,
   "id": "ca73d2f9",
   "metadata": {},
   "outputs": [],
   "source": [
    "from SimplicialComplex import *"
   ]
  },
  {
   "cell_type": "code",
   "execution_count": 5,
   "id": "8be7c074",
   "metadata": {},
   "outputs": [],
   "source": [
    "# Load mesh\n",
    "# mesh = load_obj('tet_triangle_mesh.obj')\n",
    "mesh = load_obj('data/circle.obj')"
   ]
  },
  {
   "cell_type": "code",
   "execution_count": 6,
   "id": "ff7d180c",
   "metadata": {},
   "outputs": [
    {
     "name": "stdout",
     "output_type": "stream",
     "text": [
      "Open star of vertex 1:\n",
      "#vertices:  1\n",
      "#edges:  5\n",
      "#triangles:  5\n",
      "#tets:  0\n",
      "(1,)\n",
      "(1, 70)\n",
      "(1, 101)\n",
      "(1, 227)\n",
      "(1, 228)\n",
      "(1, 413)\n",
      "(1, 70, 101)\n",
      "(1, 70, 228)\n",
      "(1, 101, 227)\n",
      "(1, 227, 413)\n",
      "(1, 228, 413)\n",
      "\n",
      "Closed star of vertex 1:\n",
      "#vertices:  6\n",
      "#edges:  10\n",
      "#triangles:  5\n",
      "#tets:  0\n",
      "(1,)\n",
      "(70,)\n",
      "(101,)\n",
      "(227,)\n",
      "(228,)\n",
      "(413,)\n",
      "(1, 70)\n",
      "(1, 101)\n",
      "(1, 227)\n",
      "(1, 228)\n",
      "(1, 413)\n",
      "(70, 101)\n",
      "(70, 228)\n",
      "(101, 227)\n",
      "(227, 413)\n",
      "(228, 413)\n",
      "(1, 70, 101)\n",
      "(1, 70, 228)\n",
      "(1, 101, 227)\n",
      "(1, 227, 413)\n",
      "(1, 228, 413)\n",
      "\n",
      "Link of vertex 1:\n",
      "#vertices:  5\n",
      "#edges:  5\n",
      "#triangles:  0\n",
      "#tets:  0\n",
      "(70,)\n",
      "(101,)\n",
      "(227,)\n",
      "(228,)\n",
      "(413,)\n",
      "(70, 101)\n",
      "(70, 228)\n",
      "(101, 227)\n",
      "(227, 413)\n",
      "(228, 413)\n"
     ]
    }
   ],
   "source": [
    "# Compute open_star, closed_star, and link for vertex 1\n",
    "print(\"Open star of vertex 1:\")\n",
    "print_sc(mesh.open_star((1,)))\n",
    "print(\"\\nClosed star of vertex 1:\")\n",
    "print_sc(mesh.closed_star((1,)))\n",
    "print(\"\\nLink of vertex 1:\")\n",
    "print_sc(mesh.link((1,)))"
   ]
  },
  {
   "cell_type": "code",
   "execution_count": null,
   "id": "771e830d",
   "metadata": {},
   "outputs": [],
   "source": [
    "# Compute open_star, closed_star, and link for edge (1, 2)\n",
    "print(\"Open star of edge (1,2):\")\n",
    "print_sc(mesh.open_star((1,2)))\n",
    "print(\"\\nClosed star of edge (1,2):\")\n",
    "print_sc(mesh.closed_star((1,2)))\n",
    "print(\"\\nLink of edge (1,2):\")\n",
    "print_sc(mesh.link((1,2)))"
   ]
  },
  {
   "cell_type": "code",
   "execution_count": null,
   "id": "5114e80e",
   "metadata": {},
   "outputs": [],
   "source": [
    "# Compute open_star, closed_star, and link for face (1, 2, 3)\n",
    "print(\"\\nOpen star of face (1,2,3):\")\n",
    "print_sc(mesh.open_star((1,2,3)))\n",
    "print(\"Closed star of face (1,2,3):\")\n",
    "print_sc(mesh.closed_star((1,2,3)))\n",
    "print(\"Link of face (1,2,3):\")\n",
    "print_sc(mesh.link((1,2,3)))"
   ]
  },
  {
   "cell_type": "code",
   "execution_count": null,
   "id": "c3300fc1",
   "metadata": {},
   "outputs": [],
   "source": [
    "# Compute open_star, closed_star, and link for face (1, 2, 3, 4)\n",
    "print(\"\\nOpen star of face (1,2,3,4):\")\n",
    "print_sc(mesh.open_star((1,2,3,4)))\n",
    "print(\"Closed star of face (1,2,3,4):\")\n",
    "print_sc(mesh.closed_star((1,2,3,4)))\n",
    "print(\"Link of face (1,2,3,4):\")\n",
    "print_sc(mesh.link((1,2,3,4)))"
   ]
  }
 ],
 "metadata": {
  "kernelspec": {
   "display_name": "Python 3 (ipykernel)",
   "language": "python",
   "name": "python3"
  },
  "language_info": {
   "codemirror_mode": {
    "name": "ipython",
    "version": 3
   },
   "file_extension": ".py",
   "mimetype": "text/x-python",
   "name": "python",
   "nbconvert_exporter": "python",
   "pygments_lexer": "ipython3",
   "version": "3.11.4"
  }
 },
 "nbformat": 4,
 "nbformat_minor": 5
}
