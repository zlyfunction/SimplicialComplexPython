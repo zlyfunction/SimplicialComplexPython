{
 "cells": [
  {
   "cell_type": "code",
   "execution_count": 20,
   "id": "9b06e6a8",
   "metadata": {},
   "outputs": [],
   "source": [
    "from SimplicialComplex import *"
   ]
  },
  {
   "cell_type": "code",
   "execution_count": 33,
   "id": "88c84648",
   "metadata": {},
   "outputs": [
    {
     "ename": "TypeError",
     "evalue": "load_msh() takes 1 positional argument but 2 were given",
     "output_type": "error",
     "traceback": [
      "\u001b[0;31m---------------------------------------------------------------------------\u001b[0m",
      "\u001b[0;31mTypeError\u001b[0m                                 Traceback (most recent call last)",
      "Input \u001b[0;32mIn [33]\u001b[0m, in \u001b[0;36m<cell line: 2>\u001b[0;34m()\u001b[0m\n\u001b[1;32m      1\u001b[0m \u001b[38;5;66;03m# load msh\u001b[39;00m\n\u001b[0;32m----> 2\u001b[0m mesh \u001b[38;5;241m=\u001b[39m \u001b[43mload_msh\u001b[49m\u001b[43m(\u001b[49m\u001b[38;5;124;43m'\u001b[39;49m\u001b[38;5;124;43mdata/sphere_delaunay.msh\u001b[39;49m\u001b[38;5;124;43m'\u001b[39;49m\u001b[43m,\u001b[49m\u001b[43m \u001b[49m\u001b[38;5;28;43mfloat\u001b[39;49m\u001b[43m)\u001b[49m\n",
      "\u001b[0;31mTypeError\u001b[0m: load_msh() takes 1 positional argument but 2 were given"
     ]
    }
   ],
   "source": [
    "# load msh\n",
    "mesh = load_msh('data/sphere_delaunay.msh')\n",
    "# /home/jiacheng/jiacheng/simpilical_complex_py_tests/SimplicialComplexPython/data/sphere_delaunay.msh "
   ]
  },
  {
   "cell_type": "code",
   "execution_count": 24,
   "id": "66a2324c",
   "metadata": {},
   "outputs": [],
   "source": [
    "mesh = load_obj('data/blub.obj')"
   ]
  },
  {
   "cell_type": "code",
   "execution_count": null,
   "id": "e8ca7a99",
   "metadata": {},
   "outputs": [],
   "source": []
  }
 ],
 "metadata": {
  "kernelspec": {
   "display_name": "Python 3 (ipykernel)",
   "language": "python",
   "name": "python3"
  },
  "language_info": {
   "codemirror_mode": {
    "name": "ipython",
    "version": 3
   },
   "file_extension": ".py",
   "mimetype": "text/x-python",
   "name": "python",
   "nbconvert_exporter": "python",
   "pygments_lexer": "ipython3",
   "version": "3.9.12"
  }
 },
 "nbformat": 4,
 "nbformat_minor": 5
}
